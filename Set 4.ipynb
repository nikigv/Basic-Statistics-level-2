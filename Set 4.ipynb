{
 "cells": [
  {
   "cell_type": "code",
   "execution_count": 2,
   "id": "6e06f7b0",
   "metadata": {},
   "outputs": [
    {
     "name": "stdout",
     "output_type": "stream",
     "text": [
      "Probability of investigation: 0.2142463375683865\n"
     ]
    }
   ],
   "source": [
    "#Q3\n",
    "from scipy.stats import t\n",
    "\n",
    "\n",
    "population_mean = 50\n",
    "population_std = 40\n",
    "sample_size = 100\n",
    "\n",
    "\n",
    "standard_error = population_std / (sample_size ** 0.5)\n",
    "\n",
    "#  t-statistuc for the lower and upper bounds\n",
    "t_lower = (45 - population_mean) / standard_error\n",
    "t_upper = (55 - population_mean) / standard_error\n",
    "\n",
    "\n",
    "probability_investigation = t.cdf(t_lower, df=sample_size - 1) + (1 - t.cdf(t_upper, df=sample_size - 1))\n",
    "\n",
    "print(\"Probability of investigation:\", probability_investigation)"
   ]
  },
  {
   "cell_type": "code",
   "execution_count": 3,
   "id": "5bfd3841",
   "metadata": {},
   "outputs": [
    {
     "data": {
      "text/plain": [
       "245.86240000000004"
      ]
     },
     "execution_count": 3,
     "metadata": {},
     "output_type": "execute_result"
    }
   ],
   "source": [
    "#Q4\n",
    "import numpy\n",
    "\n",
    "\n",
    "t_value = 1.96  # For 5% significance level\n",
    "sample_std_dev = 40\n",
    "margin_of_error = 5\n",
    "\n",
    "#minimum sample size\n",
    "n = ((sample_std_dev * t_value) / margin_of_error) ** 2\n",
    "\n",
    "n"
   ]
  },
  {
   "cell_type": "code",
   "execution_count": 4,
   "id": "5d56671d",
   "metadata": {},
   "outputs": [
    {
     "name": "stdout",
     "output_type": "stream",
     "text": [
      "Standard error: 0.6\n"
     ]
    }
   ],
   "source": [
    "#Q5\n",
    "\n",
    "sigma = 120\n",
    "n = 40000\n",
    "\n",
    "# Calculate standard error\n",
    "standard_error = sigma / numpy.sqrt(n)\n",
    "print(\"Standard error:\", standard_error)\n",
    "\n"
   ]
  },
  {
   "cell_type": "code",
   "execution_count": null,
   "id": "67ac6b37",
   "metadata": {},
   "outputs": [],
   "source": []
  }
 ],
 "metadata": {
  "kernelspec": {
   "display_name": "Python 3 (ipykernel)",
   "language": "python",
   "name": "python3"
  },
  "language_info": {
   "codemirror_mode": {
    "name": "ipython",
    "version": 3
   },
   "file_extension": ".py",
   "mimetype": "text/x-python",
   "name": "python",
   "nbconvert_exporter": "python",
   "pygments_lexer": "ipython3",
   "version": "3.11.5"
  }
 },
 "nbformat": 4,
 "nbformat_minor": 5
}
