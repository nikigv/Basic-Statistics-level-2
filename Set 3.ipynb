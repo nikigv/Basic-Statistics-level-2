{
 "cells": [
  {
   "cell_type": "markdown",
   "id": "9edf0c29",
   "metadata": {},
   "source": [
    "Q5. If the sample were based on 2,000 users, could Microsoft conclude that Mozilla has a less than 5% share of the market?"
   ]
  },
  {
   "cell_type": "code",
   "execution_count": 2,
   "id": "d9ea6643",
   "metadata": {},
   "outputs": [
    {
     "name": "stdout",
     "output_type": "stream",
     "text": [
      "Z-score: -0.8539292422983582\n",
      "P-value: 0.19657209793658192\n",
      "Fail to reject null hypothesis. Mozilla may have 5% or more market share.\n"
     ]
    }
   ],
   "source": [
    "import numpy as np\n",
    "import scipy.stats as stats\n",
    "\n",
    "\n",
    "sample_size = 2000\n",
    "observed_share = 0.046 \n",
    "\n",
    "null_hypothesis_share = 0.05\n",
    "\n",
    "\n",
    "standard_error = np.sqrt((observed_share * (1 - observed_share)) / sample_size)\n",
    "\n",
    "z_score = (observed_share - null_hypothesis_share) / standard_error\n",
    "\n",
    "p_value = stats.norm.cdf(z_score)\n",
    "\n",
    "print(\"Z-score:\", z_score)\n",
    "print(\"P-value:\", p_value)\n",
    "\n",
    "if p_value < 0.05:\n",
    "    print(\"Reject null hypothesis. Mozilla has less than 5% market share.\")\n",
    "else:\n",
    "    print(\"Fail to reject null hypothesis. Mozilla may have 5% or more market share.\")\n"
   ]
  },
  {
   "cell_type": "markdown",
   "id": "e2ddfcab",
   "metadata": {},
   "source": [
    "WebSideStory claims that its sample includes all the daily Internet users. If that’s the case, then can Microsoft conclude that Mozilla has a less than 5% share of the market?"
   ]
  },
  {
   "cell_type": "code",
   "execution_count": 11,
   "id": "ae65af0d",
   "metadata": {},
   "outputs": [
    {
     "name": "stdout",
     "output_type": "stream",
     "text": [
      "The sample would represent the entire population, and there would be no sampling error  hence can conclude the same.\n"
     ]
    }
   ],
   "source": [
    "\n",
    "print(\"The sample would represent the entire population, and there would be no sampling error  hence can conclude the same.\")\n"
   ]
  },
  {
   "cell_type": "markdown",
   "id": "ef7dfd71",
   "metadata": {},
   "source": [
    "8. How many randomly selected employers (minimum number) must we contact in order to guarantee a margin of error of no more than 4% (at 95% confidence)?\n",
    "\n"
   ]
  },
  {
   "cell_type": "code",
   "execution_count": 16,
   "id": "fe3c973d",
   "metadata": {},
   "outputs": [
    {
     "data": {
      "text/plain": [
       "600.2499999999999"
      ]
     },
     "execution_count": 16,
     "metadata": {},
     "output_type": "execute_result"
    }
   ],
   "source": [
    "import numpy as np\n",
    "sample_size = ((1.96 ** 2) * 0.5 * (1 - 0.5)) / (0.04 ** 2)\n",
    "sample_size\n",
    "\n"
   ]
  },
  {
   "cell_type": "markdown",
   "id": "5fec4b97",
   "metadata": {},
   "source": [
    "9. Suppose we want the above margin of error to be based on a 98% confidence level. What sample size (minimum) must we now use?"
   ]
  },
  {
   "cell_type": "code",
   "execution_count": 17,
   "id": "6412b2df",
   "metadata": {},
   "outputs": [
    {
     "data": {
      "text/plain": [
       "848.265625"
      ]
     },
     "execution_count": 17,
     "metadata": {},
     "output_type": "execute_result"
    }
   ],
   "source": [
    "sample_size = ((2.33 ** 2) * 0.5 * (1 - 0.5)) / (0.04 ** 2)\n",
    "sample_size"
   ]
  }
 ],
 "metadata": {
  "kernelspec": {
   "display_name": "Python 3 (ipykernel)",
   "language": "python",
   "name": "python3"
  },
  "language_info": {
   "codemirror_mode": {
    "name": "ipython",
    "version": 3
   },
   "file_extension": ".py",
   "mimetype": "text/x-python",
   "name": "python",
   "nbconvert_exporter": "python",
   "pygments_lexer": "ipython3",
   "version": "3.11.5"
  }
 },
 "nbformat": 4,
 "nbformat_minor": 5
}
