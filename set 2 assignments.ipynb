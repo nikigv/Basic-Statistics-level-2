{
 "cells": [
  {
   "cell_type": "markdown",
   "id": "3cd94417",
   "metadata": {},
   "source": [
    "Q1. The time required for servicing transmissions is normally distributed with population mean = 45 minutes and population standard deviation = 8 minutes. The service manager plans to have work begin on the transmission of a customer’s car 10 minutes after the car is dropped off and the customer is told that the car will be ready within 1 hour from drop-off. What is the probability that the service manager cannot meet his commitment? "
   ]
  },
  {
   "cell_type": "code",
   "execution_count": 4,
   "id": "cbd8fcfb",
   "metadata": {},
   "outputs": [],
   "source": [
    "from scipy import stats"
   ]
  },
  {
   "cell_type": "code",
   "execution_count": 6,
   "id": "03735c74",
   "metadata": {},
   "outputs": [
    {
     "data": {
      "text/plain": [
       "0.26598552904870054"
      ]
     },
     "execution_count": 6,
     "metadata": {},
     "output_type": "execute_result"
    }
   ],
   "source": [
    "1 - stats.norm.cdf(50,45,8)"
   ]
  },
  {
   "cell_type": "markdown",
   "id": "417de8f1",
   "metadata": {},
   "source": [
    "Q2. The current age (in years) of 400 clerical employees at an insurance claims processing center is normally distributed with mean population = 38 and Standard deviation population =6. \n",
    "\n",
    "For each statement below, please specify True/False. If false, briefly explain why.\n",
    "A.\tMore employees at the processing center are older than 44 than between 38 and 44.\n"
   ]
  },
  {
   "cell_type": "code",
   "execution_count": 11,
   "id": "04833348",
   "metadata": {},
   "outputs": [
    {
     "data": {
      "text/plain": [
       "0.15865525393145707"
      ]
     },
     "execution_count": 11,
     "metadata": {},
     "output_type": "execute_result"
    }
   ],
   "source": [
    "1 - stats.norm.cdf(44,38,6)"
   ]
  },
  {
   "cell_type": "code",
   "execution_count": 10,
   "id": "121fd872",
   "metadata": {},
   "outputs": [
    {
     "data": {
      "text/plain": [
       "0.3413447460685429"
      ]
     },
     "execution_count": 10,
     "metadata": {},
     "output_type": "execute_result"
    }
   ],
   "source": [
    "stats.norm.cdf(44,38,6) - stats.norm.cdf(38,38,6) "
   ]
  },
  {
   "cell_type": "code",
   "execution_count": 13,
   "id": "b4b8d659",
   "metadata": {},
   "outputs": [
    {
     "name": "stdout",
     "output_type": "stream",
     "text": [
      "False\n"
     ]
    }
   ],
   "source": [
    "print(\"False\")"
   ]
  },
  {
   "cell_type": "markdown",
   "id": "1e65964a",
   "metadata": {},
   "source": [
    "B.\tA training program for employees under the age of 30 at the center would be expected to attract about 36 employees"
   ]
  },
  {
   "cell_type": "code",
   "execution_count": 14,
   "id": "7e368bb5",
   "metadata": {},
   "outputs": [
    {
     "data": {
      "text/plain": [
       "0.09121121972586788"
      ]
     },
     "execution_count": 14,
     "metadata": {},
     "output_type": "execute_result"
    }
   ],
   "source": [
    "stats.norm.cdf(30,38,6)"
   ]
  },
  {
   "cell_type": "code",
   "execution_count": 15,
   "id": "20e2beeb",
   "metadata": {},
   "outputs": [
    {
     "data": {
      "text/plain": [
       "36.484487890347154"
      ]
     },
     "execution_count": 15,
     "metadata": {},
     "output_type": "execute_result"
    }
   ],
   "source": [
    "# No. of employees attending training program from 400 is N*P(X<30)\n",
    "400*stats.norm.cdf(30,38,6)"
   ]
  },
  {
   "cell_type": "markdown",
   "id": "d6c08137",
   "metadata": {},
   "source": [
    "Q3. If X1 ~ N(μ, σ2) and X2 ~ N(μ, σ2) are iid normal random variables, then what is the difference between 2 X1 and X1 + X2? Discuss both their distributions and parameters.    "
   ]
  },
  {
   "cell_type": "code",
   "execution_count": 16,
   "id": "b6022f91",
   "metadata": {},
   "outputs": [],
   "source": [
    "#The mean if 2x1 and x1+x2 is same but \n",
    "#the variance of 2x1 is 2 times more than the variance of x1+x2.\n",
    "#The difference between the two is identical and independently distributed \n",
    "#for example"
   ]
  },
  {
   "cell_type": "code",
   "execution_count": 19,
   "id": "c12f9ba5",
   "metadata": {},
   "outputs": [
    {
     "name": "stdout",
     "output_type": "stream",
     "text": [
      "For 2*X1:\n",
      "Mean: -0.001483353866807687\n",
      "Variance: 3.96232279226093\n",
      "\n",
      "For X1 + X2:\n",
      "Mean: -0.010013817321038317\n",
      "Variance: 1.9733154070924102\n"
     ]
    }
   ],
   "source": [
    "import numpy as np\n",
    "\n",
    "# Parameters\n",
    "mu = 0  # mean\n",
    "sigma = 1  # standard deviation\n",
    "\n",
    "# Generate samples\n",
    "n_samples = 10000\n",
    "X1 = np.random.normal(mu, sigma, n_samples)\n",
    "X2 = np.random.normal(mu, sigma, n_samples)\n",
    "\n",
    "# Compute 2*X1 and X1+X2\n",
    "two_X1 = 2 * X1\n",
    "X1_X2 = X1 + X2\n",
    "\n",
    "# Calculate mean and variance\n",
    "mean_two_X1 = np.mean(two_X1)\n",
    "var_two_X1 = np.var(two_X1)\n",
    "\n",
    "mean_X1_X2 = np.mean(X1_X2)\n",
    "var_X1_X2 = np.var(X1_X2)\n",
    "\n",
    "# Print results\n",
    "print(\"For 2*X1:\")\n",
    "print(\"Mean:\", mean_two_X1)\n",
    "print(\"Variance:\", var_two_X1)\n",
    "print()\n",
    "print(\"For X1 + X2:\")\n",
    "print(\"Mean:\", mean_X1_X2)\n",
    "print(\"Variance:\", var_X1_X2)\n",
    "\n"
   ]
  },
  {
   "cell_type": "markdown",
   "id": "ff41c65b",
   "metadata": {},
   "source": [
    "Q4. Let X ~ N(100, 202). Find two values, a and b, symmetric about the mean, such that the probability of the random variable taking a value between them is 0.99. "
   ]
  },
  {
   "cell_type": "code",
   "execution_count": 20,
   "id": "9c0a7f0b",
   "metadata": {},
   "outputs": [
    {
     "data": {
      "text/plain": [
       "(48.48341392902199, 151.516586070978)"
      ]
     },
     "execution_count": 20,
     "metadata": {},
     "output_type": "execute_result"
    }
   ],
   "source": [
    "stats.norm.interval(0.99,100,20)"
   ]
  },
  {
   "cell_type": "markdown",
   "id": "0638a3b5",
   "metadata": {},
   "source": [
    "Q5.\tConsider a company that has two different divisions. The annual profits from the two divisions are independent and have distributions Profit1 ~ N(5, 3^2) and Profit2 ~ N(7, 4^2) respectively.Both the profits are in Million Dollar. Answer the following questions about the total profit of the company in Rupees. Assume that 1 dollar = Rs. 45"
   ]
  },
  {
   "cell_type": "markdown",
   "id": "b39a0c3a",
   "metadata": {},
   "source": [
    "A. Specify a Rupee range (centered on the mean) such that it contains 95% probability for the annual profit of the company."
   ]
  },
  {
   "cell_type": "code",
   "execution_count": 22,
   "id": "ecbf1428",
   "metadata": {},
   "outputs": [
    {
     "name": "stdout",
     "output_type": "stream",
     "text": [
      "Mean Profit is Rs 540 Million\n"
     ]
    }
   ],
   "source": [
    "Mean = 5+7\n",
    "print('Mean Profit is Rs', Mean*45,'Million')"
   ]
  },
  {
   "cell_type": "code",
   "execution_count": 23,
   "id": "4c2c2337",
   "metadata": {},
   "outputs": [
    {
     "name": "stdout",
     "output_type": "stream",
     "text": [
      "Standard Deviation is Rs 225.0 Million\n"
     ]
    }
   ],
   "source": [
    "# Variance of profits from two different divisions of a company = SD^2 = SD1^2 + SD2^2\n",
    "SD = np.sqrt((9)+(16))\n",
    "print('Standard Deviation is Rs', SD*45, 'Million')"
   ]
  },
  {
   "cell_type": "code",
   "execution_count": 24,
   "id": "90110f38",
   "metadata": {},
   "outputs": [
    {
     "name": "stdout",
     "output_type": "stream",
     "text": [
      "Range is Rs (99.00810347848784, 980.9918965215122) in Millions\n"
     ]
    }
   ],
   "source": [
    "print('Range is Rs',(stats.norm.interval(0.95,540,225)),'in Millions')"
   ]
  },
  {
   "cell_type": "markdown",
   "id": "0c1b423a",
   "metadata": {},
   "source": [
    "B. Specify the 5th percentile of profit (in Rupees) for the company"
   ]
  },
  {
   "cell_type": "code",
   "execution_count": 31,
   "id": "aebacc45",
   "metadata": {},
   "outputs": [
    {
     "name": "stdout",
     "output_type": "stream",
     "text": [
      "5th percentile of profit for the company in rupees: 170.0\n"
     ]
    }
   ],
   "source": [
    "x = norm.ppf(0.05, 540, 225)\n",
    "print(\"5th percentile of profit for the company in rupees:\", np.round(x,))"
   ]
  },
  {
   "cell_type": "markdown",
   "id": "6cbb4537",
   "metadata": {},
   "source": [
    "C.\tWhich of the two divisions has a larger probability of making a loss in a given year?"
   ]
  },
  {
   "cell_type": "code",
   "execution_count": 32,
   "id": "0ac49879",
   "metadata": {},
   "outputs": [
    {
     "data": {
      "text/plain": [
       "0.0477903522728147"
      ]
     },
     "execution_count": 32,
     "metadata": {},
     "output_type": "execute_result"
    }
   ],
   "source": [
    "# Probability of Division 1 making a loss P(X<0)\n",
    "stats.norm.cdf(0,5,3)"
   ]
  },
  {
   "cell_type": "code",
   "execution_count": 33,
   "id": "7ce3c947",
   "metadata": {},
   "outputs": [
    {
     "data": {
      "text/plain": [
       "0.040059156863817086"
      ]
     },
     "execution_count": 33,
     "metadata": {},
     "output_type": "execute_result"
    }
   ],
   "source": [
    "# Probability of Division 2 making a loss P(X<0)\n",
    "stats.norm.cdf(0,7,4)\n"
   ]
  },
  {
   "cell_type": "code",
   "execution_count": 34,
   "id": "689f2a90",
   "metadata": {},
   "outputs": [
    {
     "name": "stdout",
     "output_type": "stream",
     "text": [
      "Division 1 has a larger probability of making loss in a given year\n"
     ]
    }
   ],
   "source": [
    "print(\"Division 1 has a larger probability of making loss in a given year\")"
   ]
  },
  {
   "cell_type": "code",
   "execution_count": null,
   "id": "05a0f616",
   "metadata": {},
   "outputs": [],
   "source": []
  }
 ],
 "metadata": {
  "kernelspec": {
   "display_name": "Python 3 (ipykernel)",
   "language": "python",
   "name": "python3"
  },
  "language_info": {
   "codemirror_mode": {
    "name": "ipython",
    "version": 3
   },
   "file_extension": ".py",
   "mimetype": "text/x-python",
   "name": "python",
   "nbconvert_exporter": "python",
   "pygments_lexer": "ipython3",
   "version": "3.11.5"
  }
 },
 "nbformat": 4,
 "nbformat_minor": 5
}
